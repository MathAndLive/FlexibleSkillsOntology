{
 "cells": [
  {
   "metadata": {
    "id": "fba46eca93a94892"
   },
   "cell_type": "markdown",
   "source": [
    "## Инициализация"
   ],
   "id": "fba46eca93a94892"
  },
  {
   "cell_type": "code",
   "id": "8aad485dacdcc295",
   "metadata": {
    "id": "8aad485dacdcc295"
   },
   "source": [
    "import torch\n",
    "from collections import defaultdict\n",
    "from sentence_transformers import SentenceTransformer\n",
    "from sklearn.cluster import DBSCAN\n",
    "import numpy as np\n",
    "import json\n",
    "import pickle\n",
    "import shutil\n",
    "import os\n",
    "from openai import OpenAI\n",
    "import pandas as pd"
   ],
   "outputs": [],
   "execution_count": 57
  },
  {
   "metadata": {
    "id": "8dcacae02f64fe30"
   },
   "cell_type": "code",
   "source": [
    "DEVICE = 'cuda' if torch.cuda.is_available() else 'cpu'\n",
    "HARD_PATH = r\"..\\4_merge_data\\results\\hard_skills_final.txt\"\n",
    "SOFT_PATH = r\"..\\4_merge_data\\results\\soft_skills_final.txt\"\n",
    "SKILLS_PATH = r\"..\\4_merge_data\\results\\merged_skills_final.csv\"\n",
    "WORKING_DIRECTORY = r\"results\"\n",
    "\n",
    "model = SentenceTransformer(\n",
    "    'ai-forever/FRIDA',\n",
    "    device=DEVICE\n",
    ")\n",
    "client = OpenAI(\n",
    "    api_key=\"ВАШ_API_КЛЮЧ\",\n",
    "    base_url=\"ВАШ_URL\"\n",
    ")"
   ],
   "id": "8dcacae02f64fe30",
   "outputs": [],
   "execution_count": 58
  },
  {
   "metadata": {
    "id": "gI1wRkg0gv18"
   },
   "cell_type": "markdown",
   "source": [
    "## Функции"
   ],
   "id": "gI1wRkg0gv18"
  },
  {
   "cell_type": "code",
   "id": "bc487fcad06e8713",
   "metadata": {
    "id": "bc487fcad06e8713"
   },
   "source": [
    "def create_embeddings(model: SentenceTransformer, phrases: list[str]) -> dict[str, torch.Tensor]:\n",
    "    encoded = [f\"query: {phrase}\" for phrase in phrases]\n",
    "    embeddings = {}\n",
    "    vectors = model.encode(encoded, convert_to_tensor=True, device=DEVICE, batch_size=16)\n",
    "\n",
    "    for phrase, vec in zip(phrases, vectors):\n",
    "        norm_vec = vec / torch.norm(vec)\n",
    "        embeddings[phrase] = norm_vec\n",
    "\n",
    "    print(\"Эмбеддинги посчитаны\")\n",
    "    return embeddings\n",
    "\n",
    "\n",
    "def cluster_skills(embeddings: dict[str, torch.Tensor], eps=0.3, min_samples=2):\n",
    "    phrases = list(embeddings.keys())\n",
    "    vectors = torch.stack([embeddings[p] for p in phrases]).cpu().numpy()\n",
    "    clustering = DBSCAN(eps=eps, min_samples=min_samples, metric='cosine').fit(vectors)\n",
    "\n",
    "    clustered = defaultdict(list)\n",
    "    for phrase, label in zip(phrases, clustering.labels_):\n",
    "        clustered[label].append(phrase)\n",
    "\n",
    "    print(\"Кластеризация выполнена\")\n",
    "    return clustered"
   ],
   "outputs": [],
   "execution_count": 59
  },
  {
   "cell_type": "code",
   "id": "7bf0ecb73f8c4a54",
   "metadata": {
    "id": "7bf0ecb73f8c4a54"
   },
   "source": [
    "def cluster_skills_llm(type, clusters: dict[int, list[str]], step):\n",
    "    try:\n",
    "        with open(f\"{WORKING_DIRECTORY}/{step}/llm{step}{type}.json\", \"r\", encoding=\"utf-8\") as f:\n",
    "            llm_ready = json.load(f)\n",
    "            llm_ready[str(-1)] = None\n",
    "    except:\n",
    "        print(\"Исключение\")\n",
    "        llm_ready = {}\n",
    "        llm_ready[str(-1)] = None\n",
    "        with open(f\"{WORKING_DIRECTORY}/{step}/llm{step}{type}.json\", \"w\", encoding=\"utf-8\") as f:\n",
    "            json.dump(llm_ready, f, ensure_ascii=False, indent=2)\n",
    "\n",
    "    cluster_groups = []\n",
    "    current_group = {}\n",
    "    for cid, phrases in clusters.items():\n",
    "        str_cid = str(int(cid)) if isinstance(cid, (np.integer, np.int64)) else str(cid)\n",
    "        if str_cid in llm_ready:\n",
    "            continue\n",
    "        current_group[str_cid] = phrases\n",
    "        if len(current_group) >= 10:\n",
    "            cluster_groups.append(current_group)\n",
    "            current_group = {}\n",
    "\n",
    "    if current_group:\n",
    "        cluster_groups.append(current_group)\n",
    "\n",
    "    for group in cluster_groups:\n",
    "        try:\n",
    "            prompt = (\n",
    "                    \"Ты — кластеризатор формулировок навыков.\\n\"\n",
    "                    \"Тебе будет предоставлен словарь, где ключи — идентификаторы кластеров, а значения — списки навыков.\\n\"\n",
    "                    \"Для каждого кластера (словаря) разбей список на подгруппы синонимов и дай каждой подгруппе короткое имя.\\n\"\n",
    "                    \"Выводи только JSON-объект, где ключи — исходные идентификаторы кластеров, а значения — массивы объектов {\\\"name\\\":...,\\\"items\\\":[...]}.\\n\"\n",
    "                    \"Пример:\\n\"\n",
    "                    \"Запрос: {\\n\"\n",
    "                    \"  \\\"1\\\": [\\\"разработка на python\\\", \\\"python разработчик\\\", \\\"pandas\\\"],\\n\"\n",
    "                    \"  \\\"2\\\": [\\\"java\\\", \\\"java программист\\\"]\\n\"\n",
    "                    \"}\\n\"\n",
    "                    \"Ответ: {\\n\"\n",
    "                    \"  \\\"1\\\": [{\\\"name\\\":\\\"python\\\",\\\"items\\\":[\\\"разработка на python\\\",\\\"python разработчик\\\"]}, {\\\"name\\\":\\\"pandas\\\",\\\"items\\\":[\\\"pandas\\\"]}],\\n\"\n",
    "                    \"  \\\"2\\\": [{\\\"name\\\":\\\"java\\\",\\\"items\\\":[\\\"java\\\", \\\"java программист\\\"]}]\\n\"\n",
    "                    \"}\\n\\n\"\n",
    "                    \"Навыки:\\n\" + json.dumps(group, ensure_ascii=False)\n",
    "            )\n",
    "            response = client.chat.completions.create(model='gemini-2.5-flash',\n",
    "                                                      messages=[{'role': 'user', 'content': prompt}])\n",
    "            response_data = json.loads(response.choices[0].message.content)\n",
    "            for cid, clusters in response_data.items():\n",
    "                llm_ready[str(cid)] = clusters\n",
    "                print(f\"Готово: {cid}\")\n",
    "\n",
    "        except Exception as e:\n",
    "            print(f\"Ошибка в группе кластеров: {e}\")\n",
    "            for cid in group.keys():\n",
    "                llm_ready[str(cid)] = None\n",
    "\n",
    "        with open(f\"{WORKING_DIRECTORY}/{step}/llm{step}{type}.json\", \"w\", encoding=\"utf-8\") as f:\n",
    "            json.dump(llm_ready, f, ensure_ascii=False, indent=2)"
   ],
   "outputs": [],
   "execution_count": 60
  },
  {
   "cell_type": "code",
   "id": "a6f168b8584c4faa",
   "metadata": {
    "id": "a6f168b8584c4faa"
   },
   "source": [
    "def replace(type: str, step):\n",
    "    try:\n",
    "        os.makedirs(f\"{WORKING_DIRECTORY}/{step + 1}\", exist_ok=True)\n",
    "\n",
    "        llm_path = f\"{WORKING_DIRECTORY}/{step}/llm{step}{type}.json\"\n",
    "        if not os.path.exists(llm_path):\n",
    "            raise FileNotFoundError(f\"LLM файл не найден: {llm_path}\")\n",
    "\n",
    "        with open(llm_path, encoding=\"utf-8\") as f:\n",
    "            llm_data = json.load(f)\n",
    "\n",
    "        replacement_map = {}\n",
    "        for cluster in llm_data.values():\n",
    "            if cluster is None:\n",
    "                continue\n",
    "            for group in cluster:\n",
    "                canonical = group[\"name\"].strip()\n",
    "                for item in group[\"items\"]:\n",
    "                    replacement_map[item.strip()] = canonical\n",
    "\n",
    "        def normalize(skills_str):\n",
    "            if not skills_str or skills_str.strip() == \"\":\n",
    "                return \"\"\n",
    "            return \";\".join(\n",
    "                replacement_map.get(skill.strip(), skill.strip())\n",
    "                for skill in skills_str.split(\";\")\n",
    "                if skill.strip()\n",
    "            )\n",
    "\n",
    "        input_path = f\"{WORKING_DIRECTORY}/{step + 1}/extracted_skills{step + 1}.txt\"\n",
    "        output_path = input_path\n",
    "\n",
    "        if not os.path.exists(input_path):\n",
    "            raise FileNotFoundError(f\"Входной файл не найден: {input_path}\")\n",
    "\n",
    "        temp_lines = []\n",
    "        with open(input_path, encoding=\"utf-8\") as f_in:\n",
    "            for line in f_in:\n",
    "                line = line.strip()\n",
    "                if not line or \"|\" not in line:\n",
    "                    continue\n",
    "\n",
    "                parts = line.split(\"|\")\n",
    "                if len(parts) != 3:\n",
    "                    continue\n",
    "\n",
    "                job_id = parts[0].strip()\n",
    "                hard_skills = parts[1].strip()\n",
    "                soft_skills = parts[2].strip()\n",
    "\n",
    "                if type == \"hard\":\n",
    "                    hard_skills = normalize(hard_skills)\n",
    "                else:\n",
    "                    soft_skills = normalize(soft_skills)\n",
    "\n",
    "                temp_lines.append(f\"{job_id}|{hard_skills}|{soft_skills}\\n\")\n",
    "\n",
    "        with open(output_path, \"w\", encoding=\"utf-8\") as f_out:\n",
    "            f_out.writelines(temp_lines)\n",
    "\n",
    "        skills_path = f\"{WORKING_DIRECTORY}/{step}/{type}{step}.txt\"\n",
    "        if os.path.exists(skills_path):\n",
    "            with open(skills_path, encoding=\"utf-8\") as f:\n",
    "                original_skills = {skill.strip() for skill in f if skill.strip()}\n",
    "\n",
    "            normalized_skills = {\n",
    "                replacement_map.get(skill, skill)\n",
    "                for skill in original_skills\n",
    "            }\n",
    "\n",
    "            output_skills_path = f\"{WORKING_DIRECTORY}/{step + 1}/{type}{step + 1}.txt\"\n",
    "            with open(output_skills_path, \"w\", encoding=\"utf-8\") as f:\n",
    "                for skill in sorted(normalized_skills):\n",
    "                    f.write(f\"{skill}\\n\")\n",
    "\n",
    "        print(\"Нормализация навыков успешно завершена\")\n",
    "\n",
    "    except Exception as e:\n",
    "        print(f\"Ошибка при нормализации навыков: {str(e)}\")\n",
    "        raise"
   ],
   "outputs": [],
   "execution_count": 61
  },
  {
   "metadata": {
    "id": "6c2ace21c88db327"
   },
   "cell_type": "code",
   "source": [
    "def csv_to_txt(input_csv_path: str, output_txt_path: str):\n",
    "    output_dir = os.path.dirname(output_txt_path)\n",
    "    os.makedirs(output_dir, exist_ok=True)\n",
    "\n",
    "    df = pd.read_csv(input_csv_path, encoding='utf-8-sig').fillna(\"\")\n",
    "\n",
    "    with open(output_txt_path, 'w', encoding='utf-8') as f:\n",
    "        for _, row in df.iterrows():\n",
    "            line = f\"{row['_id']} | {row['hard_skills']} | {row['soft_skills']}\\n\"\n",
    "            f.write(line)\n",
    "\n",
    "    print(f\"Файл успешно конвертирован в {output_txt_path}\")\n",
    "\n",
    "\n",
    "def txt_to_csv(input_txt_path: str, output_csv_path: str, professions_csv_path: str):\n",
    "    professions_df = pd.read_csv(professions_csv_path, dtype={'_id': str}, encoding='utf-8-sig')\n",
    "    professions = professions_df.set_index('_id')['best_profession'].to_dict()\n",
    "    data = []\n",
    "    with open(input_txt_path, 'r', encoding='utf-8') as f:\n",
    "        for line in f:\n",
    "            parts = line.split('|')\n",
    "            if len(parts) >= 3:\n",
    "                job_id = parts[0].strip()\n",
    "                data.append({\n",
    "                    '_id': job_id,\n",
    "                    'best_profession': professions.get(job_id, ''),\n",
    "                    'hard_skills': parts[1].strip(),\n",
    "                    'soft_skills': parts[2].strip()\n",
    "                })\n",
    "\n",
    "    pd.DataFrame(data).to_csv(output_csv_path, index=False, encoding='utf-8-sig')\n",
    "    print(f\"Файл успешно конвертирован в {output_csv_path}\")"
   ],
   "id": "6c2ace21c88db327",
   "outputs": [],
   "execution_count": 62
  },
  {
   "metadata": {
    "id": "4957ae8c3a0ab346"
   },
   "cell_type": "markdown",
   "source": [
    "## Начало работы"
   ],
   "id": "4957ae8c3a0ab346"
  },
  {
   "metadata": {
    "colab": {
     "base_uri": "https://localhost:8080/"
    },
    "id": "2fc42f5609baf8d8",
    "outputId": "63a7f009-d3c9-4b8e-8f8a-98e730e68f43"
   },
   "cell_type": "code",
   "source": [
    "step = 0\n",
    "csv_to_txt(SKILLS_PATH, f\"{WORKING_DIRECTORY}/0/extracted_skills0.txt\")\n",
    "shutil.copy(HARD_PATH,\n",
    "            f\"{WORKING_DIRECTORY}/0/hard0.txt\")\n",
    "shutil.copy(SOFT_PATH,\n",
    "            f\"{WORKING_DIRECTORY}/0/soft0.txt\")\n",
    "print(\"Всё успешно перенесено, готово к работе\")"
   ],
   "id": "2fc42f5609baf8d8",
   "outputs": [
    {
     "output_type": "stream",
     "name": "stdout",
     "text": [
      "Файл успешно конвертирован в results/0/extracted_skills0.txt\n",
      "Всё успешно перенесено, готово к работе\n"
     ]
    }
   ],
   "execution_count": 12
  },
  {
   "metadata": {
    "id": "b3160e65df2c3cf5"
   },
   "cell_type": "markdown",
   "source": [
    "## Рабочий цикл"
   ],
   "id": "b3160e65df2c3cf5"
  },
  {
   "cell_type": "code",
   "id": "rodsxNTRO7pq",
   "metadata": {
    "id": "rodsxNTRO7pq"
   },
   "source": [
    "with open(f\"{WORKING_DIRECTORY}/{step}/hard{step}.txt\", \"r\", encoding=\"utf-8\") as f:\n",
    "    hard = [line.strip() for line in f if line.strip()]\n",
    "with open(f\"{WORKING_DIRECTORY}/{step}/soft{step}.txt\", \"r\", encoding=\"utf-8\") as f:\n",
    "    soft = [line.strip() for line in f if line.strip()]\n",
    "hard = list(set(hard))\n",
    "soft = list(set(soft))"
   ],
   "outputs": [],
   "execution_count": 63
  },
  {
   "cell_type": "code",
   "id": "5123ced427f1df5a",
   "metadata": {
    "colab": {
     "base_uri": "https://localhost:8080/"
    },
    "id": "5123ced427f1df5a",
    "outputId": "f50a517f-839c-42ae-8e52-67d747a79a7f"
   },
   "source": [
    "embs = create_embeddings(model, hard)\n",
    "clusters = cluster_skills(embs, eps=0.4)\n",
    "clusters"
   ],
   "outputs": [
    {
     "output_type": "stream",
     "name": "stdout",
     "text": [
      "Эмбеддинги посчитаны\n",
      "Кластеризация выполнена\n"
     ]
    },
    {
     "output_type": "execute_result",
     "data": {
      "text/plain": [
       "defaultdict(list,\n",
       "            {np.int64(-1): ['медицинское оборудование',\n",
       "              'Формирование и предоставление отчетности руководителю, по запросу',\n",
       "              'Опыт работы с графическими редакторами 3ds Max',\n",
       "              'лечение заболеваний',\n",
       "              'физиология',\n",
       "              'анатомия животных',\n",
       "              'Коммерческие предложения',\n",
       "              'сертификаты',\n",
       "              'Корректировка',\n",
       "              'CATIA',\n",
       "              'Разработка плана лечения',\n",
       "              'работа с продуктовой воронкой',\n",
       "              'Фотореалистичная визуализация',\n",
       "              'Практический опыт работы ветеринарным хирургом',\n",
       "              'Доставка',\n",
       "              'Приготовление кондитерских компонентов',\n",
       "              'перечисление денежных средств',\n",
       "              'постпродажное обслуживание',\n",
       "              'составление писем',\n",
       "              'создание трендовых риелс',\n",
       "              'работа по теплой базе',\n",
       "              'Туры',\n",
       "              'работа с потоком клиентов в соцсетях',\n",
       "              'Знания технологий деревообработки',\n",
       "              'знание web-аналитики',\n",
       "              'Прохождение собеседования и тестовой работы',\n",
       "              'Выбор целевого рынка',\n",
       "              'знание программы SoykaSoft',\n",
       "              'Настройка ПО',\n",
       "              'Выставление на воду',\n",
       "              'коллаборации с блогерами и партнерами',\n",
       "              'дублирование контента',\n",
       "              'feature-видео',\n",
       "              'Организация других услуг',\n",
       "              'Закрытие периодов',\n",
       "              'Организация досуга',\n",
       "              'Работа с карточками товаров',\n",
       "              'методики обследования',\n",
       "              'проводить мероприятия для партнеров',\n",
       "              'подготовка коротких видеороликов',\n",
       "              'Ввод и обработка данных',\n",
       "              'Заказы',\n",
       "              'Опыт работы в АТИ',\n",
       "              'умение выписывать с/ф',\n",
       "              'адаптация текстов под стилистику и тональность компании',\n",
       "              'Специализированное образование',\n",
       "              'Знание английского языка – Intermediate',\n",
       "              'Отчетность в Белгосстрах',\n",
       "              'Подрезка',\n",
       "              'управление качеством сервиса',\n",
       "              'наличие автомобиля',\n",
       "              'запрос закрывающих документов у бухгалтерии',\n",
       "              'Отчетность',\n",
       "              'использование средств автоматизированного проектирования',\n",
       "              'Заработная плата',\n",
       "              'изучение и применение современных технологий проектирования деталей и узлов',\n",
       "              'Чтение и интерпретация рентгена',\n",
       "              'Мониторинг изменений законодательства',\n",
       "              'Конкурсы',\n",
       "              'Приготовление блюд',\n",
       "              'перевязки',\n",
       "              'развитие реализуемого бренда',\n",
       "              'выполнение поручений руководителя',\n",
       "              'Исправления и акты по разногласиям',\n",
       "              'Анализ результатов работ',\n",
       "              'Вывод на подписание договора',\n",
       "              'Выполнение плана продаж',\n",
       "              'грамотная письменная казахская и русская речь',\n",
       "              'обработка первичной документации',\n",
       "              'операции',\n",
       "              'вскрытия',\n",
       "              'разработка механик вовлечения аудитории',\n",
       "              'Работа совместно с промышленным дизайнером над разработкой новых изделий',\n",
       "              'контролировать дебиторку',\n",
       "              'Создание диаграмм и графиков',\n",
       "              'Административные задания',\n",
       "              'Отправка документов по e-mail',\n",
       "              'Закупка и подбор товара',\n",
       "              'SEO',\n",
       "              'Товары',\n",
       "              'Работа с крупными чеками',\n",
       "              'оформление договоров с туристами',\n",
       "              'Анализ электронных таблиц',\n",
       "              'Компас 3D',\n",
       "              'Разработка конкурентного преимущества',\n",
       "              'Подготовка документов для ФСТЭК и ФСВТС, СТ-1',\n",
       "              'пересаживание на санитарный стул',\n",
       "              'Работа в специальности с МДЖ от 1 года',\n",
       "              'Базовые хирургические манипуляции',\n",
       "              'Оформление отгрузочных листов и доверенностей',\n",
       "              'Поддержание чистой номенклатурной базы',\n",
       "              'Высшее образование',\n",
       "              'Уход за цветами',\n",
       "              'увеличение охватов и активности аккаунта',\n",
       "              'Интерпретация анализов',\n",
       "              'заполнение заявки на участие',\n",
       "              'Изучение поведения потребителей',\n",
       "              'Уверенный пользователь Мой склад',\n",
       "              'опыт продвижения медиаконтента в социальных сетях',\n",
       "              'современные лекарства',\n",
       "              'Подготовка документов для предоставления на электронных торговых площадках',\n",
       "              'разработка сторитейлинга',\n",
       "              'разработка и оформление КД сложных деталей с натуры',\n",
       "              'анализ аккаунтов конкурентов',\n",
       "              'владение мобилографией',\n",
       "              'Передача заказа в производство',\n",
       "              'техническая поддержка рабочих мест пользователей',\n",
       "              'сервис',\n",
       "              'анализ популярных и интересных блоггеров',\n",
       "              'Приготовление различных видов теста',\n",
       "              'Изготовление мелкоштучных изделий',\n",
       "              'контроль выхода публикаций',\n",
       "              'занятия ЛФК',\n",
       "              'выявление потребности',\n",
       "              'Исследование рынка',\n",
       "              'Взаимодействие с ИФНС',\n",
       "              'Обработка входящих запросов/звонков',\n",
       "              'Опыт работы с агентскими договорами',\n",
       "              'Техника безопасности',\n",
       "              'работать в amoCRM-системе',\n",
       "              'работа с проектной документацией',\n",
       "              'Продажи',\n",
       "              'Размещение на площадках',\n",
       "              'Полная зона ответственности за участок',\n",
       "              'подбор интересных кандидатов для сотрудничества',\n",
       "              'Копирайтинг',\n",
       "              'Знания используемых материалов в мебельной промышленности',\n",
       "              'владение инструментами привлечения трафика',\n",
       "              'Яндекс.Метрика',\n",
       "              'Терапевтический приём',\n",
       "              'Санитарные нормы',\n",
       "              'рассмотрение материалов',\n",
       "              'Холодные звонки',\n",
       "              'Смена нательного и постельного белья',\n",
       "              'Telegram',\n",
       "              'Тактическое управление товаром компании',\n",
       "              'Навыки объемно-пространственной композиции',\n",
       "              'Организация трансферов',\n",
       "              'работа вахтовым методом',\n",
       "              'Доверенности',\n",
       "              'Знание современных протоколов и подходов ведения пациентов',\n",
       "              'Взаиморасчеты',\n",
       "              'Питание',\n",
       "              'Накладные',\n",
       "              'понимание специфики соцсетей и трендов SMM',\n",
       "              'Работа с маркетплейсами',\n",
       "              'продвижение',\n",
       "              'разработка чек-листов/тестов',\n",
       "              'Прием и учет цветка',\n",
       "              'Знание 1С 7.7',\n",
       "              'Диагностика и лечение патологий МДЖ',\n",
       "              'знание географии',\n",
       "              'Смена воды',\n",
       "              'Знание ЕСКД',\n",
       "              'КП (котировки)',\n",
       "              'Обсуждение сложных клинических случаев',\n",
       "              'Подсчет объемов работ',\n",
       "              'Запуск рекламы через рекламный кабинет Фейсбук',\n",
       "              'Сверки',\n",
       "              'Свободное владение узбекским языком',\n",
       "              'съемка фото и видео на смартфон',\n",
       "              'Согласование документов в ЭДО',\n",
       "              'Официальное оформление по ТК РФ',\n",
       "              'Документооборот',\n",
       "              'Общий опыт работы',\n",
       "              'Контроль амбулаторных карт',\n",
       "              'проведение опросов',\n",
       "              'Наличие медицинской книжки',\n",
       "              'Google Analytics',\n",
       "              'знание видеомонтажных программ',\n",
       "              'Бытовое обслуживание',\n",
       "              'Битрикс',\n",
       "              'Поддержание чистоты и порядка на рабочем месте',\n",
       "              'Должностная инструкция автомеханика',\n",
       "              'запуск активностей и конкурсов',\n",
       "              'увеличение среднего чека',\n",
       "              'Соблюдение ттк',\n",
       "              'SolidWorks',\n",
       "              'работа с АВИТО',\n",
       "              'Работа с рентгеном',\n",
       "              'Владение ПК',\n",
       "              'предоставление информации по туру',\n",
       "              'Не хард скилл',\n",
       "              'Обмен документацией',\n",
       "              'проведение марафонов',\n",
       "              'Бронирование',\n",
       "              'контроль оплат',\n",
       "              'Работа с анестезиологической стойкой с полным мониторингом пациента',\n",
       "              'Казахский язык',\n",
       "              'Контроль исполнения всех этапов договоров с контрагентами',\n",
       "              'Работа с экспертным УЗИ - MINDRAY Vetus 7',\n",
       "              'caption-видео',\n",
       "              'Разработка офферов',\n",
       "              'анализ остатков',\n",
       "              'управление интернет-магазином',\n",
       "              'Внесение и списание товаров в базу данных склада',\n",
       "              'Русский язык',\n",
       "              'Контроль и учет ТМЦ',\n",
       "              'Зарубежные поездки',\n",
       "              'разработка и реализация SMM стратегии и контент плана',\n",
       "              'Заполнение договоров по форме 44ФЗ, 223ФЗ',\n",
       "              'сбор, оформление и подача документов на визу',\n",
       "              'Работа с оборудованием для эндоскопии',\n",
       "              'реализовывать услуги компании',\n",
       "              'декларации',\n",
       "              'Иметь публичную собственную страницу в соц. сетях',\n",
       "              'Хирургическое вмешательство',\n",
       "              'расчет потребности в строительных материалах',\n",
       "              'опыт работы со станками ЧПУ',\n",
       "              'Ремонт техники',\n",
       "              'Работа с информацией',\n",
       "              'Word',\n",
       "              'системы лояльности для клиентов',\n",
       "              'Умение создавать продающие офферы и сильные смыслы',\n",
       "              'Опыт работы с графическими редакторами Corona',\n",
       "              'создание увлекательного контента в соц.сетях',\n",
       "              'Исходящие звонки',\n",
       "              'Создание карт процессов',\n",
       "              'логистика',\n",
       "              'болезни животных',\n",
       "              'Vk',\n",
       "              'презентация оборудования',\n",
       "              'Интерпретация клинической картины пациента',\n",
       "              'работа с возражениями',\n",
       "              'опыт работы в качестве инженера-конструктора на производственном предприятии',\n",
       "              'воспитатель',\n",
       "              'Системы бронирования туров',\n",
       "              'Доказательные принципы',\n",
       "              'Гигиенические процедуры',\n",
       "              'Помощь в приеме пищи',\n",
       "              'доследственная проверка',\n",
       "              'съёмки интересных моментов в формате Live',\n",
       "              'ввод реквизитов',\n",
       "              'Отчетность в ФСЗН',\n",
       "              'Instagram',\n",
       "              'Создание рекламных креативов',\n",
       "              'монтаж видео',\n",
       "              'Архивация',\n",
       "              'Ведение туристов в полном цикле тура',\n",
       "              'Уверенный пользователь Диадок',\n",
       "              'увеличение конверсии лендинга',\n",
       "              'контроль качества производства работ на объекте',\n",
       "              'контекст',\n",
       "              'анализ ца',\n",
       "              'Инструменты продаж',\n",
       "              'знание Acrobat',\n",
       "              'отслеживание отправления и возвращения клиента',\n",
       "              'Работа с тонометрами',\n",
       "              'Базовые навыки работы в программах Adobe Photoshop',\n",
       "              'приготовление сендвичей',\n",
       "              'предоставление ежедневных отчетов',\n",
       "              'посещение обучающих мероприятий',\n",
       "              'консультация спортивных товаров',\n",
       "              'Excel',\n",
       "              'Обслуживание автотранспорта',\n",
       "              'расчет стоимости установки оборудования',\n",
       "              'Первичная бухгалтерия',\n",
       "              'Умение вести таргет рекламу',\n",
       "              'Диагностика',\n",
       "              'Приготовление рулетов',\n",
       "              'Инвентаризация',\n",
       "              'Опыт работы в Call-центре',\n",
       "              'Умение работать в соц. сетях',\n",
       "              'Измерение артериального давления',\n",
       "              'ведение аккаунта в Инстаграмм',\n",
       "              'Работа с собственным Б/химическим и Гематологическим анализатором'],\n",
       "             np.int64(0): ['Конструкторские программы',\n",
       "              'исполнительная документация',\n",
       "              'Конструкторская документация'],\n",
       "             np.int64(1): ['Понимание дизайна',\n",
       "              'Понимание композиции',\n",
       "              'Составление композиций'],\n",
       "             np.int64(2): ['Бухгалтерский опыт',\n",
       "              'Опыт SMM',\n",
       "              'Опыт в туризме',\n",
       "              'Опыт флориста',\n",
       "              'Опыт системного администрирования'],\n",
       "             np.int64(3): ['Документы',\n",
       "              'Договоры',\n",
       "              'Учетные документы',\n",
       "              'Оформление документов',\n",
       "              'запрос документов',\n",
       "              'Контроль документов'],\n",
       "             np.int64(4): ['Ведение и создание контента', 'Создание контента'],\n",
       "             np.int64(5): ['Знание турпродукта', 'Знание турбазы'],\n",
       "             np.int64(6): ['PowerPoint', 'Знание Power Point'],\n",
       "             np.int64(7): ['Счета на оплату', 'Оплата'],\n",
       "             np.int64(8): ['Изготовление хлебобулочных изделий',\n",
       "              'Приготовление выпечки'],\n",
       "             np.int64(9): ['разработка', 'Разработка стратегии'],\n",
       "             np.int64(10): ['Разработка концепции съёмок',\n",
       "              'Реализация съёмок'],\n",
       "             np.int64(11): ['Авто грузоперевозки',\n",
       "              'Контейнерные грузоперевозки',\n",
       "              'Ж/д грузоперевозки'],\n",
       "             np.int64(12): ['Поиск клиентов',\n",
       "              'Работа с клиентами',\n",
       "              'Работа с CRM',\n",
       "              'Работа с 1С'],\n",
       "             np.int64(13): ['Налоговый учет', 'Бухгалтерский учет'],\n",
       "             np.int64(14): ['Сопровождение производства',\n",
       "              'Сопровождение отгрузок'],\n",
       "             np.int64(15): ['Уход и контроль за подопечными',\n",
       "              'Сопровождение подопечных'],\n",
       "             np.int64(16): ['Соблюдение диеты',\n",
       "              'Соблюдение рекомендаций врача']})"
      ]
     },
     "metadata": {},
     "execution_count": 66
    }
   ],
   "execution_count": 66
  },
  {
   "cell_type": "code",
   "source": [
    "with open(f\"{WORKING_DIRECTORY}/{step}/hard{step}_pickle.pkl\", 'wb') as f:\n",
    "    pickle.dump(clusters, f)"
   ],
   "metadata": {
    "id": "5TVlfFoA5-A6"
   },
   "id": "5TVlfFoA5-A6",
   "outputs": [],
   "execution_count": 67
  },
  {
   "cell_type": "code",
   "source": [
    "with open(f\"{WORKING_DIRECTORY}/{step}/hard{step}_pickle.pkl\", 'rb') as f:\n",
    "    clusters = pickle.load(f)"
   ],
   "metadata": {
    "id": "UTVEpOcsqPWm"
   },
   "id": "UTVEpOcsqPWm",
   "outputs": [],
   "execution_count": 68
  },
  {
   "cell_type": "code",
   "id": "c724c42f2412444e",
   "metadata": {
    "colab": {
     "base_uri": "https://localhost:8080/"
    },
    "id": "c724c42f2412444e",
    "outputId": "fec014d2-cc97-4240-ba0a-ca776bb64e35"
   },
   "source": [
    "cluster_skills_llm(\"hard\", clusters, step)"
   ],
   "outputs": [
    {
     "output_type": "stream",
     "name": "stdout",
     "text": [
      "Исключение\n",
      "Готово: 0\n",
      "Готово: 1\n",
      "Готово: 2\n",
      "Готово: 3\n",
      "Готово: 4\n",
      "Готово: 5\n",
      "Готово: 6\n",
      "Готово: 7\n",
      "Готово: 8\n",
      "Готово: 9\n",
      "Готово: 10\n",
      "Готово: 11\n",
      "Готово: 12\n",
      "Готово: 13\n",
      "Готово: 14\n",
      "Готово: 15\n",
      "Готово: 16\n"
     ]
    }
   ],
   "execution_count": 69
  },
  {
   "cell_type": "code",
   "id": "IlgZ6XfcS6nV",
   "metadata": {
    "colab": {
     "base_uri": "https://localhost:8080/"
    },
    "id": "IlgZ6XfcS6nV",
    "outputId": "45f44171-afc7-48f4-86b5-04d33d310a9e"
   },
   "source": [
    "os.makedirs(f\"{WORKING_DIRECTORY}/{step + 1}\", exist_ok=True)\n",
    "shutil.copy(f\"{WORKING_DIRECTORY}/{step}/extracted_skills{step}.txt\",\n",
    "            f\"{WORKING_DIRECTORY}/{step + 1}/extracted_skills{step + 1}.txt\")\n",
    "replace(\"hard\", step)"
   ],
   "outputs": [
    {
     "output_type": "stream",
     "name": "stdout",
     "text": [
      "Нормализация навыков успешно завершена\n"
     ]
    }
   ],
   "execution_count": 70
  },
  {
   "cell_type": "code",
   "id": "91c8e80fd6c613db",
   "metadata": {
    "colab": {
     "base_uri": "https://localhost:8080/"
    },
    "id": "91c8e80fd6c613db",
    "outputId": "8dd1e23c-acc8-483c-d663-2773abcd1cc9"
   },
   "source": [
    "embs = create_embeddings(model, soft)\n",
    "clusters = cluster_skills(embs, eps=0.45)\n",
    "clusters"
   ],
   "outputs": [
    {
     "output_type": "stream",
     "name": "stdout",
     "text": [
      "Эмбеддинги посчитаны\n",
      "Кластеризация выполнена\n"
     ]
    },
    {
     "output_type": "execute_result",
     "data": {
      "text/plain": [
       "defaultdict(list,\n",
       "            {np.int64(-1): ['Презентабельный внешний вид',\n",
       "              'физическая крепость',\n",
       "              'трудолюбие',\n",
       "              'Быть на связи 14/7',\n",
       "              'система мотивации сотрудников',\n",
       "              'Многозадачность и работа с информацией',\n",
       "              'ответы на вопросы покупателей',\n",
       "              'Эмпатия',\n",
       "              'Приглашение лекторов',\n",
       "              'лидерские качества',\n",
       "              'стабильность',\n",
       "              'Умение избегать конфликтных ситуаций',\n",
       "              'Обучаемость и адаптивность',\n",
       "              'работа в постоянно изменяющейся среде',\n",
       "              'Доведение до продажи',\n",
       "              'Планирование работы',\n",
       "              'Выявление потребностей',\n",
       "              'Грамотность речи',\n",
       "              'Внутренняя самодисциплина',\n",
       "              'Доверительные отношения',\n",
       "              'Совершенствование знаний',\n",
       "              'вовлеченность в процесс и сферу деятельности',\n",
       "              'Кураторская поддержка',\n",
       "              'Активность и проактивность',\n",
       "              'Память',\n",
       "              'Карьерный рост',\n",
       "              'Позитивный настрой',\n",
       "              'Самоорганизация',\n",
       "              'Уважение к пожилым людям',\n",
       "              'настойчивый',\n",
       "              'Принятие решений',\n",
       "              'Работа по техническому заданию',\n",
       "              'Усидчивость',\n",
       "              'Оперативность',\n",
       "              'стрессоустойчивость',\n",
       "              'Удобный, сменный график',\n",
       "              'Концентрация',\n",
       "              'Договориться о доставке заказа',\n",
       "              'Интерес к трендам',\n",
       "              'Достойная заработная плата',\n",
       "              'скорость',\n",
       "              'Умение убеждать',\n",
       "              'Милосердие',\n",
       "              'Ориентация на результат',\n",
       "              'Адекватное восприятие критики',\n",
       "              'Подтверждение заказа',\n",
       "              'Поддержание порядка',\n",
       "              'Понимание специфики ухода за различными категориями лиц',\n",
       "              'Оплата 50% от стоимости внешних обучений',\n",
       "              'Максимальный вклад в общее дело',\n",
       "              'участие в повседневной жизни студии',\n",
       "              'Опыт',\n",
       "              'профессионал своего дела',\n",
       "              'Коммуникация и работа с клиентами',\n",
       "              'Здоровый педантизм',\n",
       "              'Отсутствие сквернословия',\n",
       "              'Деловые переговоры',\n",
       "              'чуткое чувство стиля',\n",
       "              'Посещение крупных ветеринарных мероприятий',\n",
       "              'Решение проблем',\n",
       "              'Открытость',\n",
       "              'Готовность к командировкам',\n",
       "              'Проведение внутренних собраний в формате конференций',\n",
       "              'Клиентоориентированность',\n",
       "              'крепкие нервы',\n",
       "              'Универсальность в работе',\n",
       "              'Командная работа'],\n",
       "             np.int64(0): ['Креативность', 'Инициативность', 'Продуктивность'],\n",
       "             np.int64(1): ['Дисциплинированность',\n",
       "              'Ответственность',\n",
       "              'исполнительность'],\n",
       "             np.int64(2): ['системный подход',\n",
       "              'основательный подход',\n",
       "              'осознанный подход к работе'],\n",
       "             np.int64(3): ['Соблюдение сроков',\n",
       "              'Четкое выполнение регламентов',\n",
       "              'Соблюдение норм'],\n",
       "             np.int64(4): ['Желание помочь их владельцам',\n",
       "              'Любовь к животным'],\n",
       "             np.int64(5): ['Аналитическое мышление', 'Нестандартное мышление'],\n",
       "             np.int64(6): ['гибкость', 'выносливость'],\n",
       "             np.int64(7): ['Стремление к развитию',\n",
       "              'Желание развиваться в сфере флористики'],\n",
       "             np.int64(8): ['Не софт скилл2', 'Не софт скилл1'],\n",
       "             np.int64(9): ['Доброжелательность и вежливость',\n",
       "              'Аккуратность и пунктуальность',\n",
       "              'Честность и порядочность'],\n",
       "             np.int64(10): ['Вкус', 'Эстетический вкус'],\n",
       "             np.int64(11): ['энергичный', 'веселый']})"
      ]
     },
     "metadata": {},
     "execution_count": 73
    }
   ],
   "execution_count": 73
  },
  {
   "cell_type": "code",
   "source": [
    "with open(f\"{WORKING_DIRECTORY}/{step}/soft{step}_pickle.pkl\", 'wb') as f:\n",
    "    pickle.dump(clusters, f)"
   ],
   "metadata": {
    "id": "zLMpdkzBHVgr"
   },
   "id": "zLMpdkzBHVgr",
   "outputs": [],
   "execution_count": 74
  },
  {
   "cell_type": "code",
   "source": [
    "with open(f\"{WORKING_DIRECTORY}/{step}/soft{step}_pickle.pkl\", 'rb') as f:\n",
    "    clusters = pickle.load(f)"
   ],
   "metadata": {
    "id": "CljxCQLJHd2J"
   },
   "id": "CljxCQLJHd2J",
   "outputs": [],
   "execution_count": 75
  },
  {
   "cell_type": "code",
   "id": "38936ec5b49a75c0",
   "metadata": {
    "colab": {
     "base_uri": "https://localhost:8080/"
    },
    "id": "38936ec5b49a75c0",
    "outputId": "25aa5822-691c-4f80-f789-1f1025da6187"
   },
   "source": [
    "cluster_skills_llm(\"soft\", clusters, step)"
   ],
   "outputs": [
    {
     "output_type": "stream",
     "name": "stdout",
     "text": [
      "Исключение\n",
      "Готово: 0\n",
      "Готово: 1\n",
      "Готово: 2\n",
      "Готово: 3\n",
      "Готово: 4\n",
      "Готово: 5\n",
      "Готово: 6\n",
      "Готово: 7\n",
      "Готово: 8\n",
      "Готово: 9\n",
      "Готово: 10\n",
      "Готово: 11\n"
     ]
    }
   ],
   "execution_count": 76
  },
  {
   "cell_type": "code",
   "id": "9373624d7367d2d3",
   "metadata": {
    "colab": {
     "base_uri": "https://localhost:8080/"
    },
    "id": "9373624d7367d2d3",
    "outputId": "8754a1cd-4a9a-48e5-c861-3549e1520b79"
   },
   "source": [
    "replace(\"soft\", step)"
   ],
   "outputs": [
    {
     "output_type": "stream",
     "name": "stdout",
     "text": [
      "Нормализация навыков успешно завершена\n"
     ]
    }
   ],
   "execution_count": 77
  },
  {
   "cell_type": "code",
   "id": "9b84040a61dbbbec",
   "metadata": {
    "id": "9b84040a61dbbbec"
   },
   "source": [
    "step += 1"
   ],
   "outputs": [],
   "execution_count": 78
  },
  {
   "metadata": {
    "id": "ebf8a8f1e1bc3ef3"
   },
   "cell_type": "markdown",
   "source": [
    "## Завершение работы"
   ],
   "id": "ebf8a8f1e1bc3ef3"
  },
  {
   "metadata": {
    "colab": {
     "base_uri": "https://localhost:8080/"
    },
    "id": "cc0308a833d778c6",
    "outputId": "3d62572e-9446-46ba-f2ed-a06751239e79"
   },
   "cell_type": "code",
   "source": [
    "txt_to_csv(f\"{WORKING_DIRECTORY}/{step - 1}/extracted_skills{step - 1}.txt\",\n",
    "           f\"{WORKING_DIRECTORY}/result.csv\", SKILLS_PATH)"
   ],
   "id": "cc0308a833d778c6",
   "outputs": [
    {
     "output_type": "stream",
     "name": "stdout",
     "text": [
      "Файл успешно конвертирован в results/result.csv\n"
     ]
    }
   ],
   "execution_count": 79
  }
 ],
 "metadata": {
  "colab": {
   "provenance": [],
   "gpuType": "T4"
  },
  "kernelspec": {
   "display_name": "Python 3",
   "name": "python3"
  },
  "language_info": {
   "codemirror_mode": {
    "name": "ipython",
    "version": 2
   },
   "file_extension": ".py",
   "mimetype": "text/x-python",
   "name": "python",
   "nbconvert_exporter": "python",
   "pygments_lexer": "ipython2",
   "version": "2.7.6"
  },
  "accelerator": "GPU"
 },
 "nbformat": 4,
 "nbformat_minor": 5
}
